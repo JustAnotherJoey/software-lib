{
 "cells": [
  {
   "cell_type": "markdown",
   "id": "a430c709",
   "metadata": {},
   "source": [
    "# alg-lib-py\n",
    "## algs.ipynb by Joseph Loy\n",
    "## Python library for common and useful algorithms\n",
    "\n"
   ]
  },
  {
   "cell_type": "code",
   "execution_count": 23,
   "id": "e4082d13",
   "metadata": {},
   "outputs": [],
   "source": [
    "# Here we create necessary data structures for running our cool algorithms :)\n",
    "import collections \n",
    "\n",
    "class BTree(object):\n",
    "    def __init__(self):\n",
    "        self.left = None\n",
    "        self.right = None\n",
    "        self.data = None\n",
    "        \n",
    "root = BTree()\n",
    "root.data = 1\n",
    "\n",
    "root.left = BTree()\n",
    "root.left.data = 2\n",
    "root.right = BTree()\n",
    "root.right.data = 3\n",
    "\n",
    "root.left.left = BTree()\n",
    "root.left.left.data = 4\n",
    "root.left.right = BTree()\n",
    "root.left.right.data = 5\n",
    "\n",
    "root.right.left = BTree()\n",
    "root.right.left.data = 6\n",
    "root.right.right = BTree()\n",
    "root.right.right.data = 7\n",
    "\n",
    "class Vertex:\n",
    "    def __init__(self, node):\n",
    "        self.id = node\n",
    "        self.adjacent = {}\n",
    "\n",
    "    def __str__(self):\n",
    "        return str(self.id) + ' adjacent: ' + str([x.id for x in self.adjacent])\n",
    "\n",
    "    def add_neighbor(self, neighbor, weight=0):\n",
    "        self.adjacent[neighbor] = weight\n",
    "\n",
    "    def get_connections(self):\n",
    "        return self.adjacent.keys()  \n",
    "\n",
    "    def get_id(self):\n",
    "        return self.id\n",
    "\n",
    "    def get_weight(self, neighbor):\n",
    "        return self.adjacent[neighbor]\n",
    "\n",
    "class Graph:\n",
    "    def __init__(self):\n",
    "        self.vert_dict = {}\n",
    "        self.num_vertices = 0\n",
    "\n",
    "    def __iter__(self):\n",
    "        return iter(self.vert_dict.values())\n",
    "\n",
    "    def add_vertex(self, node):\n",
    "        self.num_vertices = self.num_vertices + 1\n",
    "        new_vertex = Vertex(node)\n",
    "        self.vert_dict[node] = new_vertex\n",
    "        return new_vertex\n",
    "\n",
    "    def get_vertex(self, n):\n",
    "        if n in self.vert_dict:\n",
    "            return self.vert_dict[n]\n",
    "        else:\n",
    "            return None\n",
    "\n",
    "    def add_edge(self, frm, to, cost = 0):\n",
    "        if frm not in self.vert_dict:\n",
    "            self.add_vertex(frm)\n",
    "        if to not in self.vert_dict:\n",
    "            self.add_vertex(to)\n",
    "\n",
    "        self.vert_dict[frm].add_neighbor(self.vert_dict[to], cost)\n",
    "        self.vert_dict[to].add_neighbor(self.vert_dict[frm], cost)\n",
    "\n",
    "    def get_vertices(self):\n",
    "        return self.vert_dict.keys()"
   ]
  },
  {
   "cell_type": "markdown",
   "id": "ef6295b3",
   "metadata": {},
   "source": [
    "## Sorting Algorithms\n",
    "\n",
    "### Mergesort"
   ]
  },
  {
   "cell_type": "code",
   "execution_count": null,
   "id": "b36b02d4",
   "metadata": {},
   "outputs": [],
   "source": []
  },
  {
   "cell_type": "markdown",
   "id": "f0f4778b",
   "metadata": {},
   "source": [
    "### Quicksort"
   ]
  },
  {
   "cell_type": "code",
   "execution_count": null,
   "id": "986cf549",
   "metadata": {},
   "outputs": [],
   "source": []
  },
  {
   "cell_type": "markdown",
   "id": "408b0578",
   "metadata": {},
   "source": [
    "### Heapsort"
   ]
  },
  {
   "cell_type": "code",
   "execution_count": null,
   "id": "9f978f04",
   "metadata": {},
   "outputs": [],
   "source": []
  },
  {
   "cell_type": "markdown",
   "id": "3b69ca91",
   "metadata": {},
   "source": [
    "## Searching Algorithms\n",
    "\n",
    "### Breadth first search"
   ]
  },
  {
   "cell_type": "code",
   "execution_count": null,
   "id": "36a17b85",
   "metadata": {},
   "outputs": [],
   "source": [
    "def BFS(G, s):\n",
    "    # For each vertex u in G. V - {s}\n",
    "    #    u.color = WHITE\n",
    "    #    u.d = inf\n",
    "    #    u.pi = NIL\n",
    "    # s.color = GRAY\n",
    "    # s.d = 0\n",
    "    # s.pi = NIL\n",
    "    # Q = []\n",
    "    # Enqueue(Q, s)\n",
    "    # while Q != None:\n",
    "    #    u = dequeue(Q)\n",
    "    #    for each v in G. Adj[u]\n",
    "    #       if v.color == WHITE\n",
    "    #          v.color = GRAY\n",
    "    #          v.d = u.d + 1\n",
    "    #          v.pi = u\n",
    "    #          ENQUEUE(Q, v)\n",
    "    #    u.color = BLACK"
   ]
  },
  {
   "cell_type": "markdown",
   "id": "52c3a3a1",
   "metadata": {},
   "source": [
    "### Depth first search"
   ]
  },
  {
   "cell_type": "code",
   "execution_count": 21,
   "id": "456814a0",
   "metadata": {},
   "outputs": [
    {
     "name": "stdout",
     "output_type": "stream",
     "text": [
      "2\n",
      "4\n",
      "No keys down this path\n",
      "5\n",
      "No keys down this path\n",
      "No keys down this path\n",
      "3\n",
      "6\n",
      "No keys down this path\n",
      "7\n",
      "No keys down this path\n",
      "No keys down this path\n",
      "No keys down this path\n"
     ]
    }
   ],
   "source": [
    "def DFS(root, key):\n",
    "    if root.data == key:\n",
    "        print(\"Found the key\")\n",
    "        return\n",
    "    else:\n",
    "        leftRoot = root.left\n",
    "        rightRoot = root.right\n",
    "        if leftRoot != None:\n",
    "            DFS(leftRoot, key)\n",
    "        if rightRoot != None:\n",
    "            DFS(rightRoot, key)\n",
    "            \n",
    "#DFS(root, 4)\n",
    "DFS(root, 12)"
   ]
  },
  {
   "cell_type": "markdown",
   "id": "af696059",
   "metadata": {},
   "source": [
    "### Iterative deepening search"
   ]
  },
  {
   "cell_type": "code",
   "execution_count": null,
   "id": "926f399f",
   "metadata": {},
   "outputs": [],
   "source": []
  },
  {
   "cell_type": "markdown",
   "id": "b9b5dab2",
   "metadata": {},
   "source": [
    "### A* Search "
   ]
  },
  {
   "cell_type": "code",
   "execution_count": null,
   "id": "165d1d88",
   "metadata": {},
   "outputs": [],
   "source": []
  },
  {
   "cell_type": "markdown",
   "id": "f2f26999",
   "metadata": {},
   "source": [
    "### Iterative deepening A*"
   ]
  },
  {
   "cell_type": "code",
   "execution_count": null,
   "id": "cd2da008",
   "metadata": {},
   "outputs": [],
   "source": []
  },
  {
   "cell_type": "markdown",
   "id": "e197b58a",
   "metadata": {},
   "source": [
    "### SMA* search"
   ]
  },
  {
   "cell_type": "code",
   "execution_count": null,
   "id": "bcfa5ef2",
   "metadata": {},
   "outputs": [],
   "source": []
  }
 ],
 "metadata": {
  "kernelspec": {
   "display_name": "Python 3",
   "language": "python",
   "name": "python3"
  },
  "language_info": {
   "codemirror_mode": {
    "name": "ipython",
    "version": 3
   },
   "file_extension": ".py",
   "mimetype": "text/x-python",
   "name": "python",
   "nbconvert_exporter": "python",
   "pygments_lexer": "ipython3",
   "version": "3.8.8"
  }
 },
 "nbformat": 4,
 "nbformat_minor": 5
}
